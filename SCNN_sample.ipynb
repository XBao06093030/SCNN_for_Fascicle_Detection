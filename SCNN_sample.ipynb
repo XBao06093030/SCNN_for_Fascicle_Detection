{
 "cells": [
  {
   "cell_type": "markdown",
   "metadata": {},
   "source": [
    "## Import necessary packages\n"
   ]
  },
  {
   "cell_type": "code",
   "execution_count": null,
   "metadata": {
    "jupyter": {
     "outputs_hidden": false,
     "source_hidden": false
    },
    "nteract": {
     "transient": {
      "deleting": false
     }
    }
   },
   "outputs": [],
   "source": [
    "import os\n",
    "import sys\n",
    "import time\n",
    "import datetime\n",
    "import random\n",
    "import pandas as pd\n",
    "import numpy as np\n",
    "import matplotlib.pyplot as plt\n",
    "from PIL import Image\n",
    "plt.style.use(\"ggplot\")\n",
    "%matplotlib inline\n",
    "\n",
    "from tqdm import tqdm_notebook, tnrange\n",
    "from skimage.io import imshow\n",
    "from skimage.transform import resize\n",
    "# from skimage.morphology import label\n",
    "# from skimage.feature import structure_tensor\n",
    "from sklearn.model_selection import train_test_split\n",
    "# from PIL import Image, ImageDraw\n",
    "# import cv2\n",
    "\n",
    "import tensorflow as tf\n",
    "from torch.utils import data\n",
    "import torchvision.transforms as transforms\n",
    "from tensorflow import keras\n",
    "\n",
    "from keras import backend as K\n",
    "from keras.models import Model, load_model\n",
    "from keras.layers import Input, BatchNormalization, Activation, Dense, Dropout, Flatten\n",
    "from keras.layers import Lambda, RepeatVector, Reshape\n",
    "from keras.layers import Conv2D, Conv2DTranspose\n",
    "from keras.layers import MaxPooling2D, GlobalMaxPool2D\n",
    "from keras.layers import concatenate, add\n",
    "\n",
    "from keras.callbacks import EarlyStopping, ModelCheckpoint, ReduceLROnPlateau, CSVLogger\n",
    "from tensorflow.keras.optimizers import Adam, SGD, Adagrad, Adamax, Ftrl\n",
    "from tensorflow.keras.preprocessing.image import ImageDataGenerator, array_to_img, img_to_array, load_img\n",
    "#from tensorflow.keras.layers.experimental.preprocessing import Resizing"
   ]
  },
  {
   "cell_type": "code",
   "execution_count": null,
   "metadata": {},
   "outputs": [],
   "source": []
  },
  {
   "cell_type": "markdown",
   "metadata": {
    "nteract": {
     "transient": {
      "deleting": false
     }
    }
   },
   "source": [
    "## load data\n"
   ]
  },
  {
   "cell_type": "markdown",
   "metadata": {
    "nteract": {
     "transient": {
      "deleting": false
     }
    }
   },
   "source": [
    "### check image dimension"
   ]
  },
  {
   "cell_type": "code",
   "execution_count": 2,
   "metadata": {
    "gather": {
     "logged": 1673909247490
    }
   },
   "outputs": [
    {
     "name": "stdout",
     "output_type": "stream",
     "text": [
      "height: 180    width: 400\n"
     ]
    }
   ],
   "source": [
    "# Original Images\n",
    "#img = load_img('../data_augment2/Ankle_A01angle15trial2_12_62590_P4R11.jpg', color_mode='grayscale')\n",
    "\n",
    "# WHS Images\n",
    "img = load_img('../data_augment_weight_dist_no_apo/AnkleHough_A01angle10trial1_1000_1476.jpg', color_mode='grayscale')\n",
    "\n",
    "height = img.size[1]\n",
    "width = img.size[0]\n",
    "\n",
    "print('height:', height, '  ', 'width:', width)\n"
   ]
  },
  {
   "cell_type": "code",
   "execution_count": null,
   "metadata": {
    "jupyter": {
     "outputs_hidden": false,
     "source_hidden": false
    },
    "nteract": {
     "transient": {
      "deleting": false
     }
    }
   },
   "outputs": [],
   "source": []
  },
  {
   "cell_type": "markdown",
   "metadata": {
    "nteract": {
     "transient": {
      "deleting": false
     }
    }
   },
   "source": [
    "### set up the image frames"
   ]
  },
  {
   "cell_type": "code",
   "execution_count": 3,
   "metadata": {
    "gather": {
     "logged": 1673909250668
    },
    "jupyter": {
     "outputs_hidden": false,
     "source_hidden": false
    },
    "nteract": {
     "transient": {
      "deleting": false
     }
    }
   },
   "outputs": [],
   "source": [
    "# Original Images\n",
    "#Total_size = 8550\n",
    "\n",
    "# WHS Images\n",
    "Total_size = 6000\n",
    "\n",
    "#use a small piece to debug\n",
    "#Total_size = int(Total_size*0.05)"
   ]
  },
  {
   "cell_type": "code",
   "execution_count": null,
   "metadata": {
    "jupyter": {
     "outputs_hidden": false,
     "source_hidden": false
    },
    "nteract": {
     "transient": {
      "deleting": false
     }
    }
   },
   "outputs": [],
   "source": []
  },
  {
   "cell_type": "markdown",
   "metadata": {
    "nteract": {
     "transient": {
      "deleting": false
     }
    }
   },
   "source": [
    "### set up image upload functions"
   ]
  },
  {
   "cell_type": "code",
   "execution_count": 4,
   "metadata": {
    "gather": {
     "logged": 1673909253372
    },
    "jupyter": {
     "outputs_hidden": false,
     "source_hidden": false
    },
    "nteract": {
     "transient": {
      "deleting": false
     }
    }
   },
   "outputs": [],
   "source": [
    "#upload function\n",
    "#normalize the ref using max values\n",
    "pos_limit = 180\n",
    "angle_limit = 18\n",
    "\n",
    "\n",
    "class CustomDataFolder(data.Dataset):\n",
    "    \n",
    "    def __init__(self, path, transform = None):\n",
    "        self._path = path\n",
    "        self._image_paths = os.listdir(path)\n",
    "        self._transform = transform\n",
    "        \n",
    "    def __getitem__(self, index):\n",
    "        image = Image.open(os.path.join(self._path, self._image_paths[index]))\n",
    "        label1 = float(float(os.path.basename(self._image_paths[index]).split('_')[2])/pos_limit/100)\n",
    "        label2 = float((os.path.basename(self._image_paths[index]).split('_')[3]).split('.')[0])/angle_limit/1000      \n",
    "        \n",
    "\n",
    "        #print(label)\n",
    "        if self._transform:\n",
    "            image = self._transform(image)\n",
    "        return image, label1, label2\n",
    "    \n",
    "    def __len__(self):\n",
    "        return len(self._image_paths)"
   ]
  },
  {
   "cell_type": "code",
   "execution_count": null,
   "metadata": {
    "jupyter": {
     "outputs_hidden": false,
     "source_hidden": false
    },
    "nteract": {
     "transient": {
      "deleting": false
     }
    }
   },
   "outputs": [],
   "source": []
  },
  {
   "cell_type": "markdown",
   "metadata": {
    "nteract": {
     "transient": {
      "deleting": false
     }
    }
   },
   "source": [
    "### image transform"
   ]
  },
  {
   "cell_type": "code",
   "execution_count": 5,
   "metadata": {
    "gather": {
     "logged": 1673909256800
    },
    "jupyter": {
     "outputs_hidden": false,
     "source_hidden": false
    },
    "nteract": {
     "transient": {
      "deleting": false
     }
    }
   },
   "outputs": [],
   "source": [
    "#You may need to find the dir of your images in terminal and enter:\n",
    "#.DS_Store rm .amlignore rm .amlignore.amltmp\n",
    "\n",
    "\n",
    "#rescale the image to Unet fashion\n",
    "im_height = 512\n",
    "im_width = 512\n",
    "\n",
    "scale_x = im_height/height\n",
    "scale_y = im_width/width\n",
    "\n",
    "\n",
    "#transform the data to tensor so that you can use pytorch\n",
    "transform = transforms.Compose([\n",
    "    transforms.Resize((im_height, im_width)),\n",
    "    transforms.ToTensor()\n",
    "])\n",
    "\n",
    "# Original\n",
    "#trainset = CustomDataFolder('../data_augment2', transform)\n",
    "\n",
    "#WHS\n",
    "trainset = CustomDataFolder('../data_augment_weight_dist_no_apo', transform)"
   ]
  },
  {
   "cell_type": "code",
   "execution_count": null,
   "metadata": {
    "jupyter": {
     "outputs_hidden": false,
     "source_hidden": false
    },
    "nteract": {
     "transient": {
      "deleting": false
     }
    }
   },
   "outputs": [],
   "source": []
  },
  {
   "cell_type": "markdown",
   "metadata": {
    "nteract": {
     "transient": {
      "deleting": false
     }
    }
   },
   "source": [
    "### check the data"
   ]
  },
  {
   "cell_type": "code",
   "execution_count": 6,
   "metadata": {
    "gather": {
     "logged": 1673909260222
    },
    "jupyter": {
     "outputs_hidden": false,
     "source_hidden": false
    },
    "nteract": {
     "transient": {
      "deleting": false
     }
    }
   },
   "outputs": [
    {
     "data": {
      "text/plain": [
       "(0.05555555555555555, 0.082)"
      ]
     },
     "execution_count": 6,
     "metadata": {},
     "output_type": "execute_result"
    },
    {
     "data": {
      "image/png": "[encoded data removed]",
      "text/plain": [
       "<Figure size 432x288 with 1 Axes>"
      ]
     },
     "metadata": {
      "needs_background": "light"
     },
     "output_type": "display_data"
    }
   ],
   "source": [
    "#check\n",
    "tensor_exam = trainset[0][0]\n",
    "pic_exam = tensor_exam.cpu().numpy()\n",
    "plt.imshow(pic_exam[1])\n",
    "im_height = pic_exam[0].shape[0]\n",
    "im_width = pic_exam[0].shape[1]\n",
    "im_height, im_width\n",
    "\n",
    "#check if the ref numbers make sense\n",
    "trainset[0][1], trainset[0][2]"
   ]
  },
  {
   "cell_type": "code",
   "execution_count": null,
   "metadata": {},
   "outputs": [],
   "source": []
  },
  {
   "cell_type": "markdown",
   "metadata": {
    "nteract": {
     "transient": {
      "deleting": false
     }
    }
   },
   "source": [
    "### upload data"
   ]
  },
  {
   "cell_type": "code",
   "execution_count": 8,
   "metadata": {
    "gather": {
     "logged": 1673909685958
    },
    "jupyter": {
     "outputs_hidden": false,
     "source_hidden": false
    },
    "nteract": {
     "transient": {
      "deleting": false
     }
    }
   },
   "outputs": [
    {
     "name": "stdout",
     "output_type": "stream",
     "text": [
      "Total no. of aponeurosis images =  6000\n"
     ]
    }
   ],
   "source": [
    "#initialize the dataset\n",
    "print(\"Total no. of aponeurosis images = \", Total_size)\n",
    "X = np.zeros((Total_size, im_height, im_width, 3), dtype=np.float32)\n",
    "y = np.zeros((Total_size, 2), dtype=np.float32)\n",
    "\n",
    "\n",
    "#fill the dataset\n",
    "for n in range(Total_size):\n",
    "    tensor_n = trainset[n][0]\n",
    "    pic_n = tensor_n.cpu().numpy()\n",
    "    pos = trainset[n][1]\n",
    "    angle = trainset[n][2]\n",
    "    \n",
    "    X[n] = pic_n.transpose()\n",
    "    y[n] = np.array([pos, angle])"
   ]
  },
  {
   "cell_type": "code",
   "execution_count": null,
   "metadata": {
    "jupyter": {
     "outputs_hidden": false,
     "source_hidden": false
    },
    "nteract": {
     "transient": {
      "deleting": false
     }
    }
   },
   "outputs": [],
   "source": []
  },
  {
   "cell_type": "markdown",
   "metadata": {
    "nteract": {
     "transient": {
      "deleting": false
     }
    }
   },
   "source": [
    "### expand dimensions"
   ]
  },
  {
   "cell_type": "code",
   "execution_count": 9,
   "metadata": {
    "gather": {
     "logged": 1673909774988
    },
    "jupyter": {
     "outputs_hidden": false,
     "source_hidden": false
    },
    "nteract": {
     "transient": {
      "deleting": false
     }
    }
   },
   "outputs": [
    {
     "data": {
      "text/plain": [
       "((6000, 512, 512, 3), (6000, 2))"
      ]
     },
     "execution_count": 9,
     "metadata": {},
     "output_type": "execute_result"
    }
   ],
   "source": [
    "# If you use monochromatic images, you may need it.\n",
    "#X = np.expand_dims(X, axis=3)\n",
    "#y = np.expand_dims(y, axis=3)\n",
    "X.shape, y.shape"
   ]
  },
  {
   "cell_type": "code",
   "execution_count": null,
   "metadata": {
    "jupyter": {
     "outputs_hidden": false,
     "source_hidden": false
    },
    "nteract": {
     "transient": {
      "deleting": false
     }
    }
   },
   "outputs": [],
   "source": []
  },
  {
   "cell_type": "markdown",
   "metadata": {
    "nteract": {
     "transient": {
      "deleting": false
     }
    }
   },
   "source": [
    "### split data to training and testing (validate) sets"
   ]
  },
  {
   "cell_type": "code",
   "execution_count": null,
   "metadata": {
    "jupyter": {
     "outputs_hidden": false,
     "source_hidden": false
    },
    "nteract": {
     "transient": {
      "deleting": false
     }
    }
   },
   "outputs": [],
   "source": [
    "# Split data into training and testing\n",
    "X_train, X_valid, y_train, y_valid = train_test_split(X, y, test_size=0.1) # i.e. 90% training / 10% test split\n",
    "\n",
    "\n",
    "batch_size = 20\n",
    "train_data = tf.data.Dataset.from_tensor_slices((X_train, y_train)).batch(batch_size)\n",
    "test_data = tf.data.Dataset.from_tensor_slices((X_valid, y_valid)).batch(batch_size)\n",
    "\n"
   ]
  },
  {
   "cell_type": "code",
   "execution_count": null,
   "metadata": {
    "jupyter": {
     "outputs_hidden": false,
     "source_hidden": false
    },
    "nteract": {
     "transient": {
      "deleting": false
     }
    }
   },
   "outputs": [],
   "source": []
  },
  {
   "cell_type": "markdown",
   "metadata": {
    "nteract": {
     "transient": {
      "deleting": false
     }
    }
   },
   "source": [
    "## GPU Preparation"
   ]
  },
  {
   "cell_type": "code",
   "execution_count": 13,
   "metadata": {
    "gather": {
     "logged": 1671929758097
    },
    "jupyter": {
     "outputs_hidden": false,
     "source_hidden": false
    },
    "nteract": {
     "transient": {
      "deleting": false
     }
    }
   },
   "outputs": [
    {
     "name": "stdout",
     "output_type": "stream",
     "text": [
      "Num GPUs Available:  4\n"
     ]
    }
   ],
   "source": [
    "# Check gpu\n",
    "print(\"Num GPUs Available: \", len(tf.config.list_physical_devices('GPU')))"
   ]
  },
  {
   "cell_type": "code",
   "execution_count": null,
   "metadata": {
    "jupyter": {
     "outputs_hidden": false,
     "source_hidden": false
    },
    "nteract": {
     "transient": {
      "deleting": false
     }
    }
   },
   "outputs": [],
   "source": [
    "# Set up gpu\n",
    "gpus = tf.config.list_physical_devices('GPU')\n",
    "if gpus:\n",
    "  try:\n",
    "    # Currently, memory growth needs to be the same across GPUs\n",
    "    for gpu in gpus:\n",
    "      tf.config.experimental.set_memory_growth(gpu, True)\n",
    "      #tf.config.LogicalDeviceConfiguration(memory_limit=1024)\n",
    "    logical_gpus = tf.config.list_logical_devices('GPU')\n",
    "    print(len(gpus), \"Physical GPUs,\", len(logical_gpus), \"Logical GPUs\")\n",
    "  except RuntimeError as e:\n",
    "    # Memory growth must be set before GPUs have been initialized\n",
    "    print(e)"
   ]
  },
  {
   "cell_type": "code",
   "execution_count": null,
   "metadata": {
    "jupyter": {
     "outputs_hidden": false,
     "source_hidden": false
    },
    "nteract": {
     "transient": {
      "deleting": false
     }
    }
   },
   "outputs": [],
   "source": []
  },
  {
   "cell_type": "markdown",
   "metadata": {
    "jupyter": {
     "outputs_hidden": false,
     "source_hidden": false
    },
    "nteract": {
     "transient": {
      "deleting": false
     }
    }
   },
   "source": [
    "## Create Model"
   ]
  },
  {
   "cell_type": "markdown",
   "metadata": {
    "nteract": {
     "transient": {
      "deleting": false
     }
    }
   },
   "source": [
    "### define SCNN structure"
   ]
  },
  {
   "cell_type": "code",
   "execution_count": 15,
   "metadata": {
    "gather": {
     "logged": 1671929786814
    },
    "jupyter": {
     "outputs_hidden": false,
     "source_hidden": false
    },
    "nteract": {
     "transient": {
      "deleting": false
     }
    }
   },
   "outputs": [],
   "source": [
    "# Convolution block\n",
    "def conv2d_block(input_tensor, n_filters, kernel_size = 3, batchnorm = True):\n",
    "    \"\"\"Function to add 2 convolutional layers with the parameters passed to it\"\"\"\n",
    "    # first layer\n",
    "    x = Conv2D(filters = n_filters, kernel_size = (kernel_size, kernel_size),\\\n",
    "              kernel_initializer = 'he_normal', padding = 'same')(input_tensor)\n",
    "    if batchnorm:\n",
    "        x = BatchNormalization()(x)\n",
    "    x = Activation('relu')(x)\n",
    "    \n",
    "    # second layer\n",
    "    x = Conv2D(filters = n_filters, kernel_size = (kernel_size, kernel_size),\\\n",
    "              kernel_initializer = 'he_normal', padding = 'same')(input_tensor)\n",
    "    if batchnorm:\n",
    "        x = BatchNormalization()(x)\n",
    "    x = Activation('relu')(x)\n",
    "    \n",
    "    return x\n",
    "\n",
    "\n",
    "# Convolution block\n",
    "def conv2d_unit(input_tensor, n_filters, kernel_size = 3, batchnorm = True):\n",
    "    # first layer\n",
    "    x = Conv2D(filters = n_filters, kernel_size = (kernel_size, kernel_size),\\\n",
    "              kernel_initializer = 'he_normal', padding = 'same')(input_tensor)\n",
    "    if batchnorm:\n",
    "        x = BatchNormalization()(x)\n",
    "    #x = Activation('relu')(x)\n",
    "    \n",
    "    return x\n",
    "\n",
    "\n",
    "# Create model\n",
    "def get_simple_net(input_img, n_filters = 16, dropout = 0.9, batchnorm = True):\n",
    "    \"\"\"Function to define the UNET Model\"\"\"\n",
    "    \"\"\"Output is refitted\"\"\"\n",
    "    \n",
    "    # Contracting Path\n",
    "    c1 = conv2d_unit(input_img, n_filters * 1, kernel_size = 3, batchnorm = batchnorm)\n",
    "    \n",
    "    \n",
    "    #pt = c1\n",
    "    \n",
    "    p1 = MaxPooling2D((2, 2))(c1)\n",
    "    pt = Dropout(dropout)(p1)\n",
    "\n",
    "    #c2 = conv2d_block(p1, n_filters * 1, kernel_size = 3, batchnorm = batchnorm)\n",
    "    #p2 = MaxPooling2D((2, 2))(c2)\n",
    "    #pt = Dropout(dropout)(p2)\n",
    "    \n",
    "\n",
    "    #c3 = conv2d_block(p1, n_filters * 1, kernel_size = 3, batchnorm = batchnorm)\n",
    "    #p3 = MaxPooling2D((2, 2))(c2)\n",
    "    #p3 = Dropout(dropout)(p2)\n",
    "\n",
    "\n",
    "\n",
    "    outputs0 = Conv2D(1, (1, 1), activation='relu')(pt)\n",
    "    flatten = Flatten(name='flatten')(outputs0)\n",
    "\n",
    "    #flatten = Flatten(name='flatten')(pt)\n",
    "\n",
    "    outputs1 = Dense(64, activation='relu', name='output1')(flatten)\n",
    "    outputs = Dense(2, activation='sigmoid', name='output')(outputs1)\n",
    "    \n",
    "    \n",
    "    model = Model(inputs=[input_img], outputs=[outputs])\n",
    "    return model\n",
    "\n",
    "# Compute Intersection over union (IoU), a measure of labelling accuracy\n",
    "# NOTE: This is sometimes also called Jaccard score\n",
    "def IoU(y_true, y_pred, smooth=1):\n",
    "    intersection = K.sum(K.abs(y_true * y_pred), axis=-1)\n",
    "    union = K.sum(y_true,-1) + K.sum(y_pred,-1) - intersection\n",
    "    iou = (intersection + smooth) / ( union + smooth)\n",
    "    return iou\n",
    "\n",
    "# MSE\n",
    "def myMSE(y_true, y_pred):\n",
    "    return np.mean((y_true - y_pred)**2)"
   ]
  },
  {
   "cell_type": "code",
   "execution_count": null,
   "metadata": {
    "jupyter": {
     "outputs_hidden": false,
     "source_hidden": false
    },
    "nteract": {
     "transient": {
      "deleting": false
     }
    }
   },
   "outputs": [],
   "source": []
  },
  {
   "cell_type": "markdown",
   "metadata": {
    "nteract": {
     "transient": {
      "deleting": false
     }
    }
   },
   "source": [
    "### create strategy"
   ]
  },
  {
   "cell_type": "code",
   "execution_count": null,
   "metadata": {},
   "outputs": [],
   "source": [
    "# Create a MirroredStrategy.\n",
    "#tf.debugging.set_log_device_placement(True)\n",
    "#gpus = tf.config.list_logical_devices('GPU')\n",
    "#strategy = tf.distribute.MirroredStrategy(gpus)\n",
    "strategy = tf.distribute.MirroredStrategy()\n",
    "#strategy = tf.distribute.experimental.MultiWorkerMirroredStrategy()\n",
    "#print(\"Number of devices: {}\".format(strategy.num_replicas_in_sync))\n",
    "\n",
    "# Open a strategy scope.\n",
    "with strategy.scope():\n",
    "    # Everything that creates variables should be under the strategy scope.\n",
    "    # In general this is only model construction & `compile()`.\n",
    "\n",
    "    input_img = Input((im_height, im_width, 3), name='img')\n",
    "    model = get_simple_net(input_img, n_filters=16, dropout=0.80, batchnorm=True)\n",
    "    model.compile(optimizer=Adam(learning_rate=0.001), loss='mse', metrics=[\"accuracy\", IoU])\n",
    "\n",
    "# Turn-off the AutoShardPolicy\n",
    "#options = tf.data.Options()\n",
    "#options.experimental_distribute.auto_shard_policy = tf.data.experimental.AutoShardPolicy.OFF\n",
    "\n",
    "#train_data = train_data.with_options(options)\n",
    "#test_data = test_data.with_options(options)\n"
   ]
  },
  {
   "cell_type": "code",
   "execution_count": 17,
   "metadata": {
    "gather": {
     "logged": 1671929922708
    },
    "jupyter": {
     "outputs_hidden": false,
     "source_hidden": false
    },
    "nteract": {
     "transient": {
      "deleting": false
     }
    }
   },
   "outputs": [],
   "source": [
    "# Set up some parameters\n",
    "callbacks = [\n",
    "    EarlyStopping(patience=8, verbose=1),\n",
    "    ReduceLROnPlateau(factor=0.2, patience=4, min_lr=0.00001, verbose=1),\n",
    "    ModelCheckpoint('simple_model_save_h.h5', verbose=1, save_best_only=True, save_weights_only=False), # Give the model a name (the .h5 part)\n",
    "    CSVLogger('simple_model_weights_h.csv', separator=',', append=False)\n",
    "]"
   ]
  },
  {
   "cell_type": "code",
   "execution_count": null,
   "metadata": {
    "jupyter": {
     "outputs_hidden": false,
     "source_hidden": false
    },
    "nteract": {
     "transient": {
      "deleting": false
     }
    }
   },
   "outputs": [],
   "source": [
    "# Summary of the model structure\n",
    "model.summary()"
   ]
  },
  {
   "cell_type": "code",
   "execution_count": null,
   "metadata": {
    "jupyter": {
     "outputs_hidden": false,
     "source_hidden": false
    },
    "nteract": {
     "transient": {
      "deleting": false
     }
    }
   },
   "outputs": [],
   "source": []
  },
  {
   "cell_type": "code",
   "execution_count": null,
   "metadata": {
    "jupyter": {
     "outputs_hidden": false,
     "source_hidden": false
    },
    "nteract": {
     "transient": {
      "deleting": false
     }
    }
   },
   "outputs": [],
   "source": []
  },
  {
   "cell_type": "markdown",
   "metadata": {
    "nteract": {
     "transient": {
      "deleting": false
     }
    }
   },
   "source": [
    "\n"
   ]
  },
  {
   "cell_type": "markdown",
   "metadata": {
    "nteract": {
     "transient": {
      "deleting": false
     }
    }
   },
   "source": [
    "## Training and Testing"
   ]
  },
  {
   "cell_type": "code",
   "execution_count": null,
   "metadata": {
    "jupyter": {
     "outputs_hidden": false,
     "source_hidden": false
    },
    "nteract": {
     "transient": {
      "deleting": false
     }
    }
   },
   "outputs": [],
   "source": [
    "# Train\n",
    "results = model.fit(X_train, y_train, batch_size=20, epochs=10, callbacks=callbacks, validation_data=(X_valid, y_valid))\n"
   ]
  },
  {
   "cell_type": "code",
   "execution_count": null,
   "metadata": {
    "jupyter": {
     "outputs_hidden": false,
     "source_hidden": false
    },
    "nteract": {
     "transient": {
      "deleting": false
     }
    }
   },
   "outputs": [],
   "source": []
  },
  {
   "cell_type": "code",
   "execution_count": null,
   "metadata": {
    "jupyter": {
     "outputs_hidden": false,
     "source_hidden": false
    },
    "nteract": {
     "transient": {
      "deleting": false
     }
    }
   },
   "outputs": [],
   "source": [
    "# Obtaining training and testing sets\n",
    "preds_train = model.predict(X_train, verbose=1)\n",
    "preds_val = model.predict(X_valid, verbose=1)"
   ]
  },
  {
   "cell_type": "code",
   "execution_count": null,
   "metadata": {
    "jupyter": {
     "outputs_hidden": false,
     "source_hidden": false
    },
    "nteract": {
     "transient": {
      "deleting": false
     }
    }
   },
   "outputs": [],
   "source": []
  },
  {
   "cell_type": "code",
   "execution_count": 22,
   "metadata": {
    "gather": {
     "logged": 1671925537755
    },
    "jupyter": {
     "outputs_hidden": false,
     "source_hidden": false
    },
    "nteract": {
     "transient": {
      "deleting": false
     }
    }
   },
   "outputs": [],
   "source": [
    "# Organize the data \n",
    "train_len, test_len = len(preds_train), len(preds_val)\n",
    "#for training data\n",
    "y_train_ref_p = np.zeros((train_len, 1), dtype=np.float32) #posiition\n",
    "y_train_ref_a  = np.zeros((train_len, 1), dtype=np.float32) #angle\n",
    "y_train_predict_p = np.zeros((train_len, 1), dtype=np.float32) #posiition\n",
    "y_train_predict_a  = np.zeros((train_len, 1), dtype=np.float32) #angle\n",
    "#for testing data\n",
    "y_test_ref_p = np.zeros((test_len, 1), dtype=np.float32) #posiition\n",
    "y_test_ref_a  = np.zeros((test_len, 1), dtype=np.float32) #angle\n",
    "y_test_predict_p = np.zeros((test_len, 1), dtype=np.float32) #posiition\n",
    "y_test_predict_a  = np.zeros((test_len, 1), dtype=np.float32) #angle\n",
    "\n",
    "for n in range(train_len):\n",
    "    y_train_ref_p[n] = y_train[n][0]\n",
    "    y_train_ref_a[n] = y_train[n][1]\n",
    "    y_train_predict_p[n] = preds_train[n][0]\n",
    "    y_train_predict_a[n] = preds_train[n][1]\n",
    "\n",
    "for n in range(test_len):\n",
    "    y_test_ref_p[n] = y_valid[n][0]\n",
    "    y_test_ref_a[n] = y_valid[n][1]\n",
    "    y_test_predict_p[n] = preds_val[n][0]\n",
    "    y_test_predict_a[n] = preds_val[n][1]\n",
    "\n"
   ]
  },
  {
   "cell_type": "code",
   "execution_count": null,
   "metadata": {
    "jupyter": {
     "outputs_hidden": false,
     "source_hidden": false
    },
    "nteract": {
     "transient": {
      "deleting": false
     }
    }
   },
   "outputs": [],
   "source": []
  },
  {
   "cell_type": "code",
   "execution_count": null,
   "metadata": {
    "jupyter": {
     "outputs_hidden": false,
     "source_hidden": false
    },
    "nteract": {
     "transient": {
      "deleting": false
     }
    }
   },
   "outputs": [],
   "source": [
    "# MSE\n",
    "mse_p = myMSE(y_test_predict_p*pos_limit, y_test_ref_p*pos_limit)\n",
    "print(mse_p)\n",
    "\n",
    "mse_a = myMSE(y_test_predict_a*angle_limit, y_test_ref_a*angle_limit)\n",
    "print(mse_a)"
   ]
  },
  {
   "cell_type": "code",
   "execution_count": null,
   "metadata": {
    "jupyter": {
     "outputs_hidden": false,
     "source_hidden": false
    },
    "nteract": {
     "transient": {
      "deleting": false
     }
    }
   },
   "outputs": [],
   "source": []
  },
  {
   "cell_type": "markdown",
   "metadata": {},
   "source": [
    "## Save data"
   ]
  },
  {
   "cell_type": "code",
   "execution_count": 24,
   "metadata": {
    "gather": {
     "logged": 1671925548177
    },
    "jupyter": {
     "outputs_hidden": false,
     "source_hidden": false
    },
    "nteract": {
     "transient": {
      "deleting": false
     }
    }
   },
   "outputs": [],
   "source": [
    "timeStamp = np.array([datetime.datetime.now().strftime(\"%m/%d/%Y/%H:%M:%S\")])\n",
    "dfTime = pd.DataFrame(timeStamp)\n",
    "\n",
    "mse_p_t = pd.DataFrame([mse_p])\n",
    "mse_a_t = pd.DataFrame([mse_a])\n",
    "dfMse_p = pd.DataFrame(np.array(mse_p_t))\n",
    "dfMse_a = pd.DataFrame(np.array(mse_a_t))\n",
    "\n",
    "dfTrainLoss = pd.DataFrame(results.history[\"loss\"])\n",
    "dfTestLoss = pd.DataFrame(results.history[\"val_loss\"])\n",
    "\n",
    "dfY_train_p = pd.DataFrame(np.array(y_train_predict_p*pos_limit))\n",
    "dfY_train_p_ref = pd.DataFrame(np.array(y_train_ref_p*pos_limit))\n",
    "dfY_test_p = pd.DataFrame(np.array(y_test_predict_p*pos_limit))\n",
    "dfY_test_p_ref = pd.DataFrame(np.array(y_test_ref_p*pos_limit))\n",
    "\n",
    "dfY_train_a = pd.DataFrame(np.array(y_train_predict_a*angle_limit))\n",
    "dfY_train_a_ref = pd.DataFrame(np.array(y_train_ref_a*angle_limit))\n",
    "dfY_test_a = pd.DataFrame(np.array(y_test_predict_a*angle_limit))\n",
    "dfY_test_a_ref = pd.DataFrame(np.array(y_test_ref_a*angle_limit))\n",
    "\n",
    "df_all = pd.concat([dfTime, dfMse_p, dfMse_a, dfTrainLoss, dfTestLoss, dfY_train_p, dfY_train_p_ref, dfY_test_p, dfY_test_p_ref, dfY_train_a, dfY_train_a_ref, dfY_test_a, dfY_test_a_ref], ignore_index=True, axis=1)\n",
    "df_all.columns = [\"time\", \"MSE_p\", \"MSE_a\", \"TrainLoss\", \"TestLoss\", \"y_train_p\", \"y_train_p_groundtruth\", \"y_test_p\", \"y_test_p_groundtruth\", \"y_train_a\", \"y_train_a_groundtruth\", \"y_test_a\", \"y_test_a_groundtruth\"]"
   ]
  },
  {
   "cell_type": "code",
   "execution_count": null,
   "metadata": {},
   "outputs": [],
   "source": []
  },
  {
   "cell_type": "code",
   "execution_count": 43,
   "metadata": {
    "gather": {
     "logged": 1671137062933
    },
    "jupyter": {
     "outputs_hidden": false,
     "source_hidden": false
    },
    "nteract": {
     "transient": {
      "deleting": false
     }
    }
   },
   "outputs": [],
   "source": [
    "saveName_pos = 'SCNN_res' + '.csv'\n",
    "df_all.to_csv(saveName_pos)"
   ]
  },
  {
   "cell_type": "code",
   "execution_count": null,
   "metadata": {
    "jupyter": {
     "outputs_hidden": false,
     "source_hidden": false
    },
    "nteract": {
     "transient": {
      "deleting": false
     }
    }
   },
   "outputs": [],
   "source": []
  }
 ],
 "metadata": {
  "kernel_info": {
   "name": "python3"
  },
  "kernelspec": {
   "display_name": "Python 3",
   "language": "python",
   "name": "python3"
  },
  "language_info": {
   "codemirror_mode": {
    "name": "ipython",
    "version": 3
   },
   "file_extension": ".py",
   "mimetype": "text/x-python",
   "name": "python",
   "nbconvert_exporter": "python",
   "pygments_lexer": "ipython3",
   "version": "3.7.4"
  },
  "microsoft": {
   "host": {
    "AzureML": {
     "notebookHasBeenCompleted": true
    }
   }
  },
  "nteract": {
   "version": "nteract-front-end@1.0.0"
  }
 },
 "nbformat": 4,
 "nbformat_minor": 4
}
